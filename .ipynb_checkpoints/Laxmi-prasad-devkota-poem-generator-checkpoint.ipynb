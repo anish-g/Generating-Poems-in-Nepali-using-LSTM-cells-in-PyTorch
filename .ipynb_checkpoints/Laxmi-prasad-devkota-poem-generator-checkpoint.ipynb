{
 "cells": [
  {
   "cell_type": "markdown",
   "metadata": {},
   "source": [
    "# Generating Poems in Nepali Language Using LSTM cells"
   ]
  },
  {
   "cell_type": "markdown",
   "metadata": {},
   "source": [
    "This project is trained in dataset of Nepali Poems written by one of the great poets of Nepal; __*Mahakavi Laxmi Prasad Devkota*__, and tries to generate fairly resonable output that is close to the writing style of the said poet."
   ]
  },
  {
   "cell_type": "markdown",
   "metadata": {},
   "source": [
    "#### Get the Data"
   ]
  },
  {
   "cell_type": "code",
   "execution_count": 39,
   "metadata": {
    "colab": {},
    "colab_type": "code",
    "executionInfo": {
     "elapsed": 3742,
     "status": "ok",
     "timestamp": 1597804919582,
     "user": {
      "displayName": "Anish Ghimire",
      "photoUrl": "https://lh3.googleusercontent.com/a-/AOh14Ghdd0oYDP5EKpXhlvF18xwj4Vmwoy38ufxSeDFy=s64",
      "userId": "17027993521230529179"
     },
     "user_tz": -345
    },
    "id": "Ha1XfTg2mMya"
   },
   "outputs": [],
   "source": [
    "import os\n",
    "\n",
    "def load_data(path):\n",
    "    \"\"\"Load Dataset from File\"\"\"\n",
    "    input_file = os.path.join(path)\n",
    "    with open(input_file, 'r') as f:\n",
    "        data = f.read()\n",
    "        \n",
    "    return data"
   ]
  },
  {
   "cell_type": "code",
   "execution_count": 40,
   "metadata": {
    "colab": {},
    "colab_type": "code",
    "executionInfo": {
     "elapsed": 3575,
     "status": "ok",
     "timestamp": 1597804919583,
     "user": {
      "displayName": "Anish Ghimire",
      "photoUrl": "https://lh3.googleusercontent.com/a-/AOh14Ghdd0oYDP5EKpXhlvF18xwj4Vmwoy38ufxSeDFy=s64",
      "userId": "17027993521230529179"
     },
     "user_tz": -345
    },
    "id": "UR8w_bfqmMyi"
   },
   "outputs": [],
   "source": [
    "# load in data\n",
    "data_dir = 'lspd.txt'\n",
    "text = load_data(data_dir)"
   ]
  },
  {
   "cell_type": "markdown",
   "metadata": {},
   "source": [
    "#### Explore the data"
   ]
  },
  {
   "cell_type": "code",
   "execution_count": 41,
   "metadata": {
    "colab": {
     "base_uri": "https://localhost:8080/",
     "height": 289
    },
    "colab_type": "code",
    "executionInfo": {
     "elapsed": 3556,
     "status": "ok",
     "timestamp": 1597804919583,
     "user": {
      "displayName": "Anish Ghimire",
      "photoUrl": "https://lh3.googleusercontent.com/a-/AOh14Ghdd0oYDP5EKpXhlvF18xwj4Vmwoy38ufxSeDFy=s64",
      "userId": "17027993521230529179"
     },
     "user_tz": -345
    },
    "id": "PkvsNyaOmMyn",
    "outputId": "f0909d06-212f-40aa-c977-0b054b15ffe0",
    "scrolled": true
   },
   "outputs": [
    {
     "name": "stdout",
     "output_type": "stream",
     "text": [
      "Dataset Stats\n",
      "Roughly the number of unique words: 9446\n",
      "Number of lines: 4092\n",
      "Average number of words in wach line: 5.297898338220919\n",
      "\n",
      "The lines 0 to 10:\n",
      "नछाडी जानोस् हे मेरा प्राण ! अकेली मलाई,\n",
      "मनको वनमा ननिभ्ने गरी विरह जलाई !\n",
      "ननिभ्ने गरी विरह जलाई,\n",
      "लोचनका तारा ! हे मेर प्यारा ! यो जोति  बिलाए !\n",
      "के भनूँ? भन्ने म केही थिइन  विष नै पिलाए !\n",
      "प्यारा ! विष नै पिलाए !\n",
      "मनको कुरा गलामा अड्छ, अड्कन्छ गलामा,\n",
      "यो मेरो मुटु पचासबाजी धड्कन्छ पलामा ।\n",
      "यो छाती मेरो चिरेर खोली नजर गराए,\n",
      "त्यो मन केही फर्कंदो होला, तस्विर खुलाए\n"
     ]
    }
   ],
   "source": [
    "view_line_range = (0, 10)\n",
    "\n",
    "import numpy as np\n",
    "\n",
    "print('Dataset Stats')\n",
    "print('Roughly the number of unique words: {}'.format(len({word: None for word in text.split()})))\n",
    "\n",
    "lines = text.split('\\n')\n",
    "print('Number of lines: {}'.format(len(lines)))\n",
    "word_count_line = [len(line.split()) for line in lines]\n",
    "print('Average number of words in wach line: {}'.format(np.average(word_count_line)))\n",
    "\n",
    "print()\n",
    "print('The lines {} to {}:'.format(*view_line_range))\n",
    "print('\\n'.join(text.split('\\n')[view_line_range[0]:view_line_range[1]]))"
   ]
  },
  {
   "cell_type": "markdown",
   "metadata": {},
   "source": [
    "#### Pre-processing Functions"
   ]
  },
  {
   "cell_type": "markdown",
   "metadata": {},
   "source": [
    "##### Lookup Table"
   ]
  },
  {
   "cell_type": "code",
   "execution_count": 42,
   "metadata": {
    "colab": {},
    "colab_type": "code",
    "executionInfo": {
     "elapsed": 3438,
     "status": "ok",
     "timestamp": 1597804919584,
     "user": {
      "displayName": "Anish Ghimire",
      "photoUrl": "https://lh3.googleusercontent.com/a-/AOh14Ghdd0oYDP5EKpXhlvF18xwj4Vmwoy38ufxSeDFy=s64",
      "userId": "17027993521230529179"
     },
     "user_tz": -345
    },
    "id": "5iieod-amMys"
   },
   "outputs": [],
   "source": [
    "from collections import Counter\n",
    "\n",
    "def create_lookup_tables(text):\n",
    "    \"\"\"\n",
    "    Create lookup tables for vocabulary\n",
    "    :param text: The poem text split into words\n",
    "    :return: A tuple of dicts (vocab_to_int, int_to_vocab)\n",
    "    \"\"\"\n",
    "    \n",
    "    word_counts = Counter(text)\n",
    "    sorted_vocab = sorted(word_counts, key=word_counts.get, reverse=True)\n",
    "    int_to_vocab = {i: word for i, word in enumerate(sorted_vocab)}\n",
    "    vocab_to_int = {word: i for i, word in int_to_vocab.items()}\n",
    "    return (vocab_to_int, int_to_vocab)"
   ]
  },
  {
   "cell_type": "markdown",
   "metadata": {},
   "source": [
    "##### Tokenize Punctuation"
   ]
  },
  {
   "cell_type": "code",
   "execution_count": 43,
   "metadata": {
    "colab": {},
    "colab_type": "code",
    "executionInfo": {
     "elapsed": 3223,
     "status": "ok",
     "timestamp": 1597804919585,
     "user": {
      "displayName": "Anish Ghimire",
      "photoUrl": "https://lh3.googleusercontent.com/a-/AOh14Ghdd0oYDP5EKpXhlvF18xwj4Vmwoy38ufxSeDFy=s64",
      "userId": "17027993521230529179"
     },
     "user_tz": -345
    },
    "id": "nPfhUvQomMyx"
   },
   "outputs": [],
   "source": [
    "def token_lookup():\n",
    "    \"\"\"\n",
    "    Generate a dict to turn punctuation into a token.\n",
    "    :return: Tokenized dictionary where the key is the punctuation and the value is the token\n",
    "    \"\"\"\n",
    "    \n",
    "    tokenizer = {}\n",
    "    tokenizer['.'] = '||PERIOD||'\n",
    "    tokenizer[','] = '||COMMA||'\n",
    "    tokenizer['\"'] = '||QUOTATION_MARK||'\n",
    "    tokenizer[';'] = '||SEMICOLON||'\n",
    "    tokenizer['!'] = '||EXCLAMATION_MARK||'\n",
    "    tokenizer['?'] = '||QUESTION_MARK||'\n",
    "    tokenizer['('] = '||LEFT_PARANTHESES||'\n",
    "    tokenizer[')'] = '||RIGHT_PARANTHESES||'\n",
    "    tokenizer['-'] = '||DASH||'\n",
    "    tokenizer['\\n'] = '||RETURN||'\n",
    "    \n",
    "    return tokenizer"
   ]
  },
  {
   "cell_type": "markdown",
   "metadata": {},
   "source": [
    "#### Pre-process all the data and save it"
   ]
  },
  {
   "cell_type": "code",
   "execution_count": 44,
   "metadata": {
    "colab": {},
    "colab_type": "code",
    "executionInfo": {
     "elapsed": 3204,
     "status": "ok",
     "timestamp": 1597804919586,
     "user": {
      "displayName": "Anish Ghimire",
      "photoUrl": "https://lh3.googleusercontent.com/a-/AOh14Ghdd0oYDP5EKpXhlvF18xwj4Vmwoy38ufxSeDFy=s64",
      "userId": "17027993521230529179"
     },
     "user_tz": -345
    },
    "id": "XfhYnrjJmMy2"
   },
   "outputs": [],
   "source": [
    "import pickle\n",
    "\n",
    "SPECIAL_WORDS = {'PADDING': '<PAD>'}\n",
    "\n",
    "def preprocess_and_save_data(dataset_path, token_lookup, create_lookup_table):\n",
    "    \"\"\"\n",
    "    Preprocess Text Data\n",
    "    \"\"\"\n",
    "    \n",
    "    text = load_data(dataset_path)\n",
    "    \n",
    "    text = text[81:]\n",
    "    \n",
    "    token_dict = token_lookup()\n",
    "    for key, token in token_dict.items():\n",
    "        text = text.replace(key, ' {}'.format(token))\n",
    "        \n",
    "    text = text.lower()\n",
    "    text = text.split()\n",
    "    \n",
    "    vocab_to_int, int_to_vocab = create_lookup_tables(text + list(SPECIAL_WORDS.values()))\n",
    "    int_text = [vocab_to_int[word] for word in text]\n",
    "    pickle.dump((int_text, vocab_to_int, int_to_vocab, token_dict), open('preprocess.p', 'wb'))"
   ]
  },
  {
   "cell_type": "code",
   "execution_count": 45,
   "metadata": {
    "colab": {},
    "colab_type": "code",
    "executionInfo": {
     "elapsed": 3192,
     "status": "ok",
     "timestamp": 1597804919586,
     "user": {
      "displayName": "Anish Ghimire",
      "photoUrl": "https://lh3.googleusercontent.com/a-/AOh14Ghdd0oYDP5EKpXhlvF18xwj4Vmwoy38ufxSeDFy=s64",
      "userId": "17027993521230529179"
     },
     "user_tz": -345
    },
    "id": "-8JMmavSmMy6"
   },
   "outputs": [],
   "source": [
    "preprocess_and_save_data(data_dir, token_lookup, create_lookup_tables)"
   ]
  },
  {
   "cell_type": "markdown",
   "metadata": {},
   "source": [
    "#### Helper functions for loading and saving model"
   ]
  },
  {
   "cell_type": "code",
   "execution_count": 46,
   "metadata": {
    "colab": {},
    "colab_type": "code",
    "executionInfo": {
     "elapsed": 3180,
     "status": "ok",
     "timestamp": 1597804919587,
     "user": {
      "displayName": "Anish Ghimire",
      "photoUrl": "https://lh3.googleusercontent.com/a-/AOh14Ghdd0oYDP5EKpXhlvF18xwj4Vmwoy38ufxSeDFy=s64",
      "userId": "17027993521230529179"
     },
     "user_tz": -345
    },
    "id": "nbUYR_1ImMzA"
   },
   "outputs": [],
   "source": [
    "def load_preprocess():\n",
    "    \"\"\"\n",
    "    Load the Preprocessed Training data and return them in batches of <batch_sizes> or less\n",
    "    \"\"\"\n",
    "    \n",
    "    return pickle.load(open('preprocess.p', mode='rb'))"
   ]
  },
  {
   "cell_type": "code",
   "execution_count": 47,
   "metadata": {
    "colab": {},
    "colab_type": "code",
    "executionInfo": {
     "elapsed": 3944,
     "status": "ok",
     "timestamp": 1597804920365,
     "user": {
      "displayName": "Anish Ghimire",
      "photoUrl": "https://lh3.googleusercontent.com/a-/AOh14Ghdd0oYDP5EKpXhlvF18xwj4Vmwoy38ufxSeDFy=s64",
      "userId": "17027993521230529179"
     },
     "user_tz": -345
    },
    "id": "m_jPeviMmMzH"
   },
   "outputs": [],
   "source": [
    "def save_model(filename, decoder):\n",
    "    save_filename = os.path.splitext(os.path.basename(filename))[0] + '.pt'\n",
    "    torch.save(decoder, save_filename)"
   ]
  },
  {
   "cell_type": "code",
   "execution_count": 48,
   "metadata": {
    "colab": {},
    "colab_type": "code",
    "executionInfo": {
     "elapsed": 3931,
     "status": "ok",
     "timestamp": 1597804920366,
     "user": {
      "displayName": "Anish Ghimire",
      "photoUrl": "https://lh3.googleusercontent.com/a-/AOh14Ghdd0oYDP5EKpXhlvF18xwj4Vmwoy38ufxSeDFy=s64",
      "userId": "17027993521230529179"
     },
     "user_tz": -345
    },
    "id": "5vldnXJumMzL"
   },
   "outputs": [],
   "source": [
    "def load_model(filename):\n",
    "    save_filename = os.path.splitext(os.path.basename(filename))[0] + '.pt'\n",
    "    return torch.load(save_filename)"
   ]
  },
  {
   "cell_type": "code",
   "execution_count": 49,
   "metadata": {
    "colab": {},
    "colab_type": "code",
    "executionInfo": {
     "elapsed": 3918,
     "status": "ok",
     "timestamp": 1597804920367,
     "user": {
      "displayName": "Anish Ghimire",
      "photoUrl": "https://lh3.googleusercontent.com/a-/AOh14Ghdd0oYDP5EKpXhlvF18xwj4Vmwoy38ufxSeDFy=s64",
      "userId": "17027993521230529179"
     },
     "user_tz": -345
    },
    "id": "otBFcPIemMzP"
   },
   "outputs": [],
   "source": [
    "int_text, vocab_to_int, int_to_vocab, token_dict = load_preprocess()"
   ]
  },
  {
   "cell_type": "markdown",
   "metadata": {},
   "source": [
    "#### Check Access to GPU if Available"
   ]
  },
  {
   "cell_type": "code",
   "execution_count": 50,
   "metadata": {
    "colab": {},
    "colab_type": "code",
    "executionInfo": {
     "elapsed": 3904,
     "status": "ok",
     "timestamp": 1597804920367,
     "user": {
      "displayName": "Anish Ghimire",
      "photoUrl": "https://lh3.googleusercontent.com/a-/AOh14Ghdd0oYDP5EKpXhlvF18xwj4Vmwoy38ufxSeDFy=s64",
      "userId": "17027993521230529179"
     },
     "user_tz": -345
    },
    "id": "Z8WT7_E-mMzV"
   },
   "outputs": [],
   "source": [
    "import torch\n",
    "\n",
    "# Check for GPU\n",
    "train_on_gpu = torch.cuda.is_available()\n",
    "if not train_on_gpu:\n",
    "    print('No GPU found. Please use a GPU to train your neural network.')"
   ]
  },
  {
   "cell_type": "markdown",
   "metadata": {},
   "source": [
    "#### Batching Input"
   ]
  },
  {
   "cell_type": "code",
   "execution_count": 51,
   "metadata": {
    "colab": {},
    "colab_type": "code",
    "executionInfo": {
     "elapsed": 3892,
     "status": "ok",
     "timestamp": 1597804920368,
     "user": {
      "displayName": "Anish Ghimire",
      "photoUrl": "https://lh3.googleusercontent.com/a-/AOh14Ghdd0oYDP5EKpXhlvF18xwj4Vmwoy38ufxSeDFy=s64",
      "userId": "17027993521230529179"
     },
     "user_tz": -345
    },
    "id": "WD7B-XdWmMza"
   },
   "outputs": [],
   "source": [
    "from torch.utils.data import TensorDataset, DataLoader\n",
    "\n",
    "def batch_data(words, sequence_length, batch_size):\n",
    "    \"\"\"\n",
    "    Batch the neural network data using DataLoader\n",
    "    :param words: The word ids of the poems\n",
    "    :param sequence_length: The sequence length of each batch\n",
    "    :param batch size: The size of each batch; the number of sequences in a batch\n",
    "    :return: DataLoader with batched data\n",
    "    \"\"\"\n",
    "    \n",
    "    n_batches = len(words)//batch_size\n",
    "    words = words[:n_batches*batch_size]\n",
    "    y_len = len(words) - sequence_length\n",
    "    x, y = [], []\n",
    "    for idx in range(0, y_len):\n",
    "        idx_end = sequence_length + idx\n",
    "        x_batch = words[idx:idx_end]\n",
    "        x.append(x_batch)\n",
    "        y_batch = words[idx_end]\n",
    "        y.append(y_batch)\n",
    "        \n",
    "    data = TensorDataset(torch.from_numpy(np.asarray(x)), torch.from_numpy(np.asarray(y)))\n",
    "    data_loader = DataLoader(data, shuffle=False, batch_size=batch_size)\n",
    "    \n",
    "    return data_loader"
   ]
  },
  {
   "cell_type": "markdown",
   "metadata": {},
   "source": [
    "##### Testing Dataloader"
   ]
  },
  {
   "cell_type": "code",
   "execution_count": 52,
   "metadata": {
    "colab": {
     "base_uri": "https://localhost:8080/",
     "height": 255
    },
    "colab_type": "code",
    "executionInfo": {
     "elapsed": 3880,
     "status": "ok",
     "timestamp": 1597804920369,
     "user": {
      "displayName": "Anish Ghimire",
      "photoUrl": "https://lh3.googleusercontent.com/a-/AOh14Ghdd0oYDP5EKpXhlvF18xwj4Vmwoy38ufxSeDFy=s64",
      "userId": "17027993521230529179"
     },
     "user_tz": -345
    },
    "id": "xinCvEeZmMzf",
    "outputId": "0e443550-6330-4dd6-b6a8-e9872253d136"
   },
   "outputs": [
    {
     "name": "stdout",
     "output_type": "stream",
     "text": [
      "torch.Size([10, 5])\n",
      "tensor([[ 0,  1,  2,  3,  4],\n",
      "        [ 1,  2,  3,  4,  5],\n",
      "        [ 2,  3,  4,  5,  6],\n",
      "        [ 3,  4,  5,  6,  7],\n",
      "        [ 4,  5,  6,  7,  8],\n",
      "        [ 5,  6,  7,  8,  9],\n",
      "        [ 6,  7,  8,  9, 10],\n",
      "        [ 7,  8,  9, 10, 11],\n",
      "        [ 8,  9, 10, 11, 12],\n",
      "        [ 9, 10, 11, 12, 13]])\n",
      "\n",
      "torch.Size([10])\n",
      "tensor([ 5,  6,  7,  8,  9, 10, 11, 12, 13, 14])\n"
     ]
    }
   ],
   "source": [
    "# test dataloader\n",
    "\n",
    "test_text = range(50)\n",
    "t_loader = batch_data(test_text, sequence_length=5, batch_size = 10)\n",
    "\n",
    "data_iter = iter(t_loader)\n",
    "sample_x, sample_y = data_iter.next()\n",
    "\n",
    "print(sample_x.shape)\n",
    "print(sample_x)\n",
    "print()\n",
    "print(sample_y.shape)\n",
    "print(sample_y)"
   ]
  },
  {
   "cell_type": "markdown",
   "metadata": {},
   "source": [
    "#### Build the Neural Network"
   ]
  },
  {
   "cell_type": "code",
   "execution_count": 53,
   "metadata": {
    "colab": {},
    "colab_type": "code",
    "executionInfo": {
     "elapsed": 3809,
     "status": "ok",
     "timestamp": 1597804920370,
     "user": {
      "displayName": "Anish Ghimire",
      "photoUrl": "https://lh3.googleusercontent.com/a-/AOh14Ghdd0oYDP5EKpXhlvF18xwj4Vmwoy38ufxSeDFy=s64",
      "userId": "17027993521230529179"
     },
     "user_tz": -345
    },
    "id": "SQJV37xNmMzl"
   },
   "outputs": [],
   "source": [
    "import torch.nn as nn\n",
    "\n",
    "class RNN(nn.Module):\n",
    "    \n",
    "    def __init__(self, vocab_size, output_size, embedding_dim, hidden_dim, n_layers, dropout=0.5):\n",
    "        \"\"\"\n",
    "        Initialize the PyTorch RNN Module\n",
    "        :param vocab_size: The number of input dimensions of the neural network (the size of the vocabulary)\n",
    "        :param output_size: The number of output dimensions of the neural network\n",
    "        :param embedding_dim: The size of embeddings, if you need to choose them\n",
    "        :param hidden_dim: The size of the hidden layer outputs\n",
    "        :param dropout: dropout to add in between LSTM/GRU layers\n",
    "        \"\"\"\n",
    "        \n",
    "        super(RNN, self).__init__()\n",
    "        self.embedding = nn.Embedding(vocab_size, embedding_dim)\n",
    "        \n",
    "        # set class variables\n",
    "        self.output_size = output_size\n",
    "        self.n_layers = n_layers\n",
    "        self.hidden_dim = hidden_dim\n",
    "        \n",
    "        # define model layers\n",
    "        self.lstm = nn.LSTM(embedding_dim, hidden_dim, n_layers, dropout=dropout, batch_first=True)\n",
    "        self.fc = nn.Linear(hidden_dim, output_size)\n",
    "        \n",
    "        \n",
    "    def forward(self, nn_input, hidden):\n",
    "        \"\"\"\n",
    "        Forward propagation of the neural network\n",
    "        :param nn_input: The input to the neural network\n",
    "        :param hidden: The hidden state\n",
    "        :return: Two Tensors, the output of the neural network and the latest hidden state\n",
    "        \"\"\"\n",
    "        \n",
    "        batch_size = nn_input.size(0)\n",
    "        embeds = self.embedding(nn_input)\n",
    "        lstm_out, hidden = self.lstm(embeds, hidden)\n",
    "        \n",
    "        lstm_out = lstm_out.contiguous().view(-1, self.hidden_dim)\n",
    "        \n",
    "        out = self.fc(lstm_out)\n",
    "        out = out.view(batch_size, -1, self.output_size)\n",
    "        out = out[:, -1]\n",
    "        \n",
    "        return out, hidden\n",
    "    \n",
    "    \n",
    "    def init_hidden(self, batch_size):\n",
    "        \"\"\"\n",
    "        Initialize the hidden state of an LSTM/GRU\n",
    "        :param batch_size: The batch_size of the hidden state\n",
    "        :return: hidden state of dims (n_layers, batch_size, hidden_dim)\n",
    "        \"\"\"\n",
    "        \n",
    "        weight = next(self.parameters()).data\n",
    "        \n",
    "        if(train_on_gpu):\n",
    "            hidden = (weight.new(self.n_layers, batch_size, self.hidden_dim).zero_().cuda(),\n",
    "                     weight.new(self.n_layers, batch_size, self.hidden_dim).zero_().cuda())\n",
    "        else:\n",
    "            hidden = (weight.new(self.n_layers, batch_size, self.hidden_dim).zero_(),\n",
    "                     weight.new(self.n_layers, batch_size, self.hidden_dim).zero_())\n",
    "            \n",
    "        return hidden"
   ]
  },
  {
   "cell_type": "markdown",
   "metadata": {},
   "source": [
    "#### Forward and Backpropagation"
   ]
  },
  {
   "cell_type": "code",
   "execution_count": 54,
   "metadata": {
    "colab": {},
    "colab_type": "code",
    "executionInfo": {
     "elapsed": 3798,
     "status": "ok",
     "timestamp": 1597804920371,
     "user": {
      "displayName": "Anish Ghimire",
      "photoUrl": "https://lh3.googleusercontent.com/a-/AOh14Ghdd0oYDP5EKpXhlvF18xwj4Vmwoy38ufxSeDFy=s64",
      "userId": "17027993521230529179"
     },
     "user_tz": -345
    },
    "id": "P1ZH4JbhmMzu"
   },
   "outputs": [],
   "source": [
    "def forward_back_prop(rnn, optimizer, criterion, inp, target, hidden):\n",
    "    \"\"\"\n",
    "    Forward and backward propagation on the neural network\n",
    "    :param decoder: The PyTorch Module that holds the neural network\n",
    "    :param decoder_optimizer: The PyTorch optimizer for the neural network\n",
    "    :param criterion: The PyTorch loss function\n",
    "    :param inp: A batch of input to the neural network\n",
    "    :param target: The target output for the batch pf input\n",
    "    :return: The loss and the latest hidden state Tensor\n",
    "    \"\"\"\n",
    "    \n",
    "    # move data to GPU, if available\n",
    "    if (train_on_gpu):\n",
    "        rnn.cuda()\n",
    "    \n",
    "    # perform backpropagation and optimization\n",
    "    h = tuple([each.data for each in hidden])\n",
    "    \n",
    "    rnn.zero_grad()\n",
    "    \n",
    "    if (train_on_gpu):\n",
    "        inp, target = inp.cuda(), target.cuda()\n",
    "        \n",
    "    output, h = rnn(inp, h)\n",
    "    \n",
    "    loss = criterion(output, target)\n",
    "    \n",
    "    loss.backward()\n",
    "    \n",
    "    nn.utils.clip_grad_norm_(rnn.parameters(), 5)\n",
    "    \n",
    "    optimizer.step()\n",
    "    \n",
    "    # return the loss over a batch and the hidden state produced by our model\n",
    "    return loss.item(), h"
   ]
  },
  {
   "cell_type": "markdown",
   "metadata": {},
   "source": [
    "#### Neural Network Training"
   ]
  },
  {
   "cell_type": "code",
   "execution_count": 55,
   "metadata": {
    "colab": {},
    "colab_type": "code",
    "executionInfo": {
     "elapsed": 3786,
     "status": "ok",
     "timestamp": 1597804920372,
     "user": {
      "displayName": "Anish Ghimire",
      "photoUrl": "https://lh3.googleusercontent.com/a-/AOh14Ghdd0oYDP5EKpXhlvF18xwj4Vmwoy38ufxSeDFy=s64",
      "userId": "17027993521230529179"
     },
     "user_tz": -345
    },
    "id": "iJGAIAZ1mMz1"
   },
   "outputs": [],
   "source": [
    "# training loop\n",
    "\n",
    "def train_rnn(rnn, batch_size, optimizer, criterion, n_epochs, show_every_n_batches=100):\n",
    "    batch_losses = []\n",
    "    \n",
    "    rnn.train()\n",
    "    \n",
    "    print('Training for %d epochs(s)...' % n_epochs)\n",
    "    for epoch_i in range(1, n_epochs + 1):\n",
    "        \n",
    "        # initialize hidden state\n",
    "        hidden = rnn.init_hidden(batch_size)\n",
    "        \n",
    "        for batch_i, (inputs, labels) in enumerate(train_loader, 1):\n",
    "            \n",
    "            # make sure to iterate over completely full batches only\n",
    "            n_batches = len(train_loader.dataset)//batch_size\n",
    "            if(batch_i > n_batches):\n",
    "                break\n",
    "                \n",
    "            # forward, back prop\n",
    "            loss, hidden = forward_back_prop(rnn, optimizer, criterion, inputs, labels, hidden)\n",
    "            # record loss\n",
    "            batch_losses.append(loss)\n",
    "            \n",
    "            # printing loss stats\n",
    "            if batch_i % show_every_n_batches == 0:\n",
    "                print('Epoch: {:>4}/{:<4} Loss: {}\\n'.format(\n",
    "                epoch_i, n_epochs, np.average(batch_losses)))\n",
    "                batch_losses = []\n",
    "                \n",
    "    # return trained rnn\n",
    "    return rnn"
   ]
  },
  {
   "cell_type": "markdown",
   "metadata": {},
   "source": [
    "#### Hyperparameters\n",
    "* `sequence_length`: set length of a sequence\n",
    "* `batch_size`: set batch size\n",
    "* `num_epochs`: set the number of epochs to train for\n",
    "* `learning_rate`: set the learning rate for the optimizer\n",
    "* `vocab_size`: set the number of unique tokens in our vocabulary\n",
    "* `output_size`: set the desired size of the output\n",
    "* `embedding_dim`: set the embedding dimension; smaller than the `vocab_size`\n",
    "* `hidden_dim`: set the hiddendimension of RNN\n",
    "* `n_layers`: set the number of layers/cells in RNN\n",
    "* `show_every_n_batches`: set the number of batches at which the neural network should print progress"
   ]
  },
  {
   "cell_type": "code",
   "execution_count": 56,
   "metadata": {
    "colab": {},
    "colab_type": "code",
    "executionInfo": {
     "elapsed": 3773,
     "status": "ok",
     "timestamp": 1597804920373,
     "user": {
      "displayName": "Anish Ghimire",
      "photoUrl": "https://lh3.googleusercontent.com/a-/AOh14Ghdd0oYDP5EKpXhlvF18xwj4Vmwoy38ufxSeDFy=s64",
      "userId": "17027993521230529179"
     },
     "user_tz": -345
    },
    "id": "Ia9R9IeamMz7"
   },
   "outputs": [],
   "source": [
    "# Data params\n",
    "# Sequence length\n",
    "sequence_length = 10 # number of words in a sequence\n",
    "# Batch Size\n",
    "batch_size = 128\n",
    "\n",
    "# data loader\n",
    "train_loader = batch_data(int_text, sequence_length, batch_size)"
   ]
  },
  {
   "cell_type": "code",
   "execution_count": 57,
   "metadata": {
    "colab": {},
    "colab_type": "code",
    "executionInfo": {
     "elapsed": 3760,
     "status": "ok",
     "timestamp": 1597804920374,
     "user": {
      "displayName": "Anish Ghimire",
      "photoUrl": "https://lh3.googleusercontent.com/a-/AOh14Ghdd0oYDP5EKpXhlvF18xwj4Vmwoy38ufxSeDFy=s64",
      "userId": "17027993521230529179"
     },
     "user_tz": -345
    },
    "id": "Vd6Ds8bcmM0C"
   },
   "outputs": [],
   "source": [
    "# Training parameters\n",
    "# NUmber of Epochs\n",
    "num_epochs = 1000\n",
    "# Learning Rate\n",
    "learning_rate = 0.001\n",
    "\n",
    "# Model parameters\n",
    "# Vocab size\n",
    "vocab_size = len(vocab_to_int)\n",
    "# Output size\n",
    "output_size = vocab_size\n",
    "# Embedding Dimension\n",
    "embedding_dim = 200\n",
    "# Hidden Dimension\n",
    "hidden_dim = 250\n",
    "# Number of RNN Layers\n",
    "n_layers = 2\n",
    "\n",
    "# Show stats for every n number of batches\n",
    "show_every_n_batches = 200"
   ]
  },
  {
   "cell_type": "markdown",
   "metadata": {},
   "source": [
    "#### Train and Save Model"
   ]
  },
  {
   "cell_type": "code",
   "execution_count": 58,
   "metadata": {
    "colab": {
     "base_uri": "https://localhost:8080/",
     "height": 51
    },
    "colab_type": "code",
    "executionInfo": {
     "elapsed": 2334848,
     "status": "ok",
     "timestamp": 1597807251476,
     "user": {
      "displayName": "Anish Ghimire",
      "photoUrl": "https://lh3.googleusercontent.com/a-/AOh14Ghdd0oYDP5EKpXhlvF18xwj4Vmwoy38ufxSeDFy=s64",
      "userId": "17027993521230529179"
     },
     "user_tz": -345
    },
    "id": "56dFsyJXmM0G",
    "outputId": "8ccc0bf9-311e-4e3b-b5a3-6e54071dddc1"
   },
   "outputs": [
    {
     "name": "stdout",
     "output_type": "stream",
     "text": [
      "Training for 1000 epochs(s)...\n",
      "Model Trained and Saved\n"
     ]
    }
   ],
   "source": [
    "# create model and move to gpu if available\n",
    "rnn = RNN(vocab_size, output_size, embedding_dim, hidden_dim, n_layers, dropout=0.5)\n",
    "if train_on_gpu:\n",
    "    rnn.cuda()\n",
    "    \n",
    "# defining loss and optimization functions for training\n",
    "optimizer = torch.optim.Adam(rnn.parameters(), lr=learning_rate)\n",
    "criterion = nn.CrossEntropyLoss()\n",
    "\n",
    "# training the model\n",
    "trained_rnn = train_rnn(rnn, batch_size, optimizer, criterion, num_epochs, show_every_n_batches)\n",
    "\n",
    "save_model('trained_rnn', trained_rnn)\n",
    "print('Model Trained and Saved')"
   ]
  },
  {
   "cell_type": "markdown",
   "metadata": {},
   "source": [
    "#### Load Trained Model"
   ]
  },
  {
   "cell_type": "code",
   "execution_count": 59,
   "metadata": {
    "colab": {},
    "colab_type": "code",
    "executionInfo": {
     "elapsed": 2334779,
     "status": "ok",
     "timestamp": 1597807251484,
     "user": {
      "displayName": "Anish Ghimire",
      "photoUrl": "https://lh3.googleusercontent.com/a-/AOh14Ghdd0oYDP5EKpXhlvF18xwj4Vmwoy38ufxSeDFy=s64",
      "userId": "17027993521230529179"
     },
     "user_tz": -345
    },
    "id": "dS67_AQwmM0K"
   },
   "outputs": [],
   "source": [
    "_, vocab_to_int, int_to_vocab, token_dict = load_preprocess()\n",
    "trained_rnn = load_model('trained_rnn')"
   ]
  },
  {
   "cell_type": "markdown",
   "metadata": {},
   "source": [
    "#### Generate Poem"
   ]
  },
  {
   "cell_type": "code",
   "execution_count": 60,
   "metadata": {
    "colab": {},
    "colab_type": "code",
    "executionInfo": {
     "elapsed": 2334764,
     "status": "ok",
     "timestamp": 1597807251485,
     "user": {
      "displayName": "Anish Ghimire",
      "photoUrl": "https://lh3.googleusercontent.com/a-/AOh14Ghdd0oYDP5EKpXhlvF18xwj4Vmwoy38ufxSeDFy=s64",
      "userId": "17027993521230529179"
     },
     "user_tz": -345
    },
    "id": "heBQl2OCmM0P"
   },
   "outputs": [],
   "source": [
    "import torch.nn.functional as F\n",
    "\n",
    "def generate(rnn, prime_id, int_to_vocab, token_dict, pad_value, predict_len=100):\n",
    "    \"\"\"\n",
    "    Generate text using the neural network\n",
    "    :param decoder: The PyTorch Module that holds the trained neural network\n",
    "    :param prime_id: The word id to start the first prediction\n",
    "    :param int_to_vocab: Dict of word id keys to word values\n",
    "    :param token_dict: Dict of punctuation tokens to punctuation values\n",
    "    :param pad_value: The length used to pad a sequence\n",
    "    :param predict_len: The length of text to generate\n",
    "    :return: The generated text\n",
    "    \"\"\"\n",
    "    \n",
    "    rnn.eval()\n",
    "    \n",
    "    # create a sequence (batch_size=1) with the prime_id\n",
    "    current_seq = np.full((1, sequence_length), pad_value)\n",
    "    current_seq[-1][-1] = prime_id\n",
    "    predicted = [int_to_vocab[prime_id]]\n",
    "    \n",
    "    for _ in range(predict_len):\n",
    "        if train_on_gpu:\n",
    "            current_seq = torch.LongTensor(current_seq).cuda()\n",
    "        else:\n",
    "            current_seq = torch.LongTensor(current_seq)\n",
    "            \n",
    "        # initialize the hidden state\n",
    "        hidden = rnn.init_hidden(current_seq.size(0))\n",
    "        \n",
    "        # get the output of the rnn\n",
    "        output, _ = rnn(current_seq, hidden)\n",
    "        \n",
    "        # get the next word od the rnn\n",
    "        p = F.softmax(output, dim=1).data\n",
    "        if train_on_gpu:\n",
    "            p = p.cpu() # move to cpu\n",
    "            \n",
    "        # use top_k sampling to get the index of the next word\n",
    "        top_k = 5\n",
    "        p, top_i = p.topk(top_k)\n",
    "        top_i = top_i.numpy().squeeze()\n",
    "        \n",
    "        # select the likely next word index with some element of randomness\n",
    "        p = p.numpy().squeeze()\n",
    "        word_i = np.random.choice(top_i, p=p/p.sum())\n",
    "        \n",
    "        # retrive that word from the dictionary\n",
    "        word = int_to_vocab[word_i]\n",
    "        predicted.append(word)\n",
    "        \n",
    "        # the generated word becomes the next \"current sequence\" and the cycle can continue\n",
    "        if train_on_gpu:\n",
    "          current_seq = current_seq.cpu()\n",
    "        current_seq = np.roll(current_seq, -1, 1)\n",
    "        current_seq[-1][-1] = word_i\n",
    "        \n",
    "    gen_sentences = ' '.join(predicted)\n",
    "    \n",
    "    # Replace punctuation tokens\n",
    "    for key, token in token_dict.items():\n",
    "        ending = ' ' if key in ['\\n', '(', '\"'] else ''\n",
    "        gen_sentences = gen_sentences.replace(' ' + token.lower(), key)\n",
    "    gen_sentences = gen_sentences.replace('\\n', '\\n')\n",
    "    gen_sentences = gen_sentences.replace('(', '(')\n",
    "    \n",
    "    #return all the sentence\n",
    "    return gen_sentences"
   ]
  },
  {
   "cell_type": "code",
   "execution_count": 61,
   "metadata": {
    "colab": {
     "base_uri": "https://localhost:8080/",
     "height": 1000
    },
    "colab_type": "code",
    "executionInfo": {
     "elapsed": 2336150,
     "status": "ok",
     "timestamp": 1597807252884,
     "user": {
      "displayName": "Anish Ghimire",
      "photoUrl": "https://lh3.googleusercontent.com/a-/AOh14Ghdd0oYDP5EKpXhlvF18xwj4Vmwoy38ufxSeDFy=s64",
      "userId": "17027993521230529179"
     },
     "user_tz": -345
    },
    "id": "kfWISnJNmM0U",
    "outputId": "c2d1c6c7-c7af-478e-ba45-fed4d6924aa3"
   },
   "outputs": [
    {
     "name": "stdout",
     "output_type": "stream",
     "text": [
      "हे मेरी भन्ने पारी को भन्ने यो आँसु पुछन,\n",
      "हिमालपारी छ जीवन गर्नु जङ्घार चीसा,\n",
      "असला ली तान ।\n",
      "मेरो त्यो निदाउँछ भन्थिन् मदन पर्दा पारी लागी समान छ जीवन भूतभ्रान्ति चढ्नु ।\n",
      "\n",
      "आखिर बाटामा सही बेखुश,\n",
      "फुलको बीसै विष, यस मनको हिउँदा हेरी नजर कुनै,\n",
      "मनको हो मन यस्तो\n",
      "प्यारा, बाटामा बीसै मन!\n",
      "मनको कुरा गलामा हो, तस्विर है पिलाए!\n",
      "म मरिछाड्यो, कि गरिछाड्यो मर्दको इरादा,\n",
      "नहाल प्यारि! बाटामा मेरो गलामा!\n",
      "कि अरु सर्प नजर मुटु\n",
      "त्यो बाटामा गर्तमा हुँ मिठास मेरो कुन?\n",
      "फुलको मेरा को हो!\n",
      "सम्झन, बाटो दिल मेरो, रोएर रुन्छिन्!\n",
      "भन छिनछिन!\n",
      "प्रभु गैँडा!\n",
      "तिम्रो आज! थुंङ्गा आज स्वर्ग? भन्ने किन हो?\n",
      "मानिस मेरो भर!\n",
      "वीणा नि!\n",
      "भए!\n",
      "विचित्र मनुष्य–मातृका!\n",
      "पृथ्वी झल्लर झल्लर आगो विष लाख ।\n",
      "तिम्रो मुटु\n",
      "तिम्रो चिरेर मनको पात!\n",
      "किन छाया फर्कंदो होला, तस्विर खुलाए\n",
      "आँसुमा सक्छु ईन्द्रको आसन ।\n",
      "प्यारी! भेटको हाँसन गैंडा!\n",
      "चट् साथी!\n",
      "कि हाँसो प्यारि अड्छ, पाठ! विष नि!\n",
      "ताराझुप्पे!\n",
      "तिम्रो जल आँसुको\n",
      "अश्रुर–झङ्कृत साँपका पेटारा,\n",
      "दैन्य, निराशा, ती नाताभन्दा हिउँदा ती, नाङ्गा गधा हो!\n",
      "सँभाल यस्तो यस्तो जलमा, वनका कनिका मेरो किन?\n",
      "लाम्चिला मुटु रसिलो बोल्दछ जङ्घार हेर्‍यो,\n",
      "बाटामा जाँच लयको खुट्टा\n",
      "उद्गार रे मुटु,\n",
      "यो मेरो काँप्छ मन डगाऊँ म के छाडी भर झैँ वस्तु\n",
      "शून्यको छ भर तिम्रो भर, के? मुटु हो भुलेकी?\n",
      "एक मैला हो मेरो\n",
      "प्यारा यो पिलाए! बाटामा बीसै प्राण, बाटामा बीसै जलेका उडी यो उडी\n",
      "भन!\n",
      "वेद,\n",
      "नहाल हाँसे!\n",
      "फुलको बोल्छ बोल्छे, अलिको खोल्दैन,\n",
      "प्यारा त मृत्यु टुहुरी अन्तध्र्यान ।\n",
      "हे मेरा भाइ! हे प्यारा प्यारा! म मुना बिलाए! भन्ने भनूँ यो! भर साथी म!\n",
      "कि मरिछाड्यो, फेरि रिन मर्दको इरादा,\n",
      "नहाल प्यारि! बाटामा मेरो झर्ना लाग्नु उडी ल्हासा! भेटको बीसै दिन!\n",
      "कि मरिछाड्यो, बाटामा हाँसो इरादा,\n",
      "नहाल प्यारि! बाटामा भनेको इशारा अड्छ पिलाए!\n",
      "मदन दिने आकाश आमाको मायाले,\n",
      "कविको मन यो हेर्थे पुछन, मनमा छ!\n",
      "आकाश घुट्का विधिले उठिरहेको!\n",
      "म केश हूँ खाने, स्वर्ग हरे! यहाँ आज ज्योति!\n",
      "हिमाल पयर चाली!\n",
      "चुम्बन रानी,\n",
      "नहाल गजूर!\n",
      "नख चञ्चुलोहिता औ चाँडै नै बल\n"
     ]
    }
   ],
   "source": [
    "gen_length = 400 \n",
    "prime_word = 'हे'\n",
    "\n",
    "pad_word = SPECIAL_WORDS['PADDING']\n",
    "generated_poem = generate(trained_rnn, vocab_to_int[prime_word], int_to_vocab, token_dict, vocab_to_int[pad_word], gen_length)\n",
    "\n",
    "print(generated_poem)"
   ]
  },
  {
   "cell_type": "markdown",
   "metadata": {},
   "source": [
    "#### Save Poem to a file"
   ]
  },
  {
   "cell_type": "code",
   "execution_count": 1,
   "metadata": {
    "colab": {},
    "colab_type": "code",
    "executionInfo": {
     "elapsed": 2336090,
     "status": "ok",
     "timestamp": 1597807252887,
     "user": {
      "displayName": "Anish Ghimire",
      "photoUrl": "https://lh3.googleusercontent.com/a-/AOh14Ghdd0oYDP5EKpXhlvF18xwj4Vmwoy38ufxSeDFy=s64",
      "userId": "17027993521230529179"
     },
     "user_tz": -345
    },
    "id": "vctFwDdZmM0Y"
   },
   "outputs": [
    {
     "ename": "NameError",
     "evalue": "name 'generated_poem' is not defined",
     "output_type": "error",
     "traceback": [
      "\u001b[0;31m---------------------------------------------------------------------------\u001b[0m",
      "\u001b[0;31mNameError\u001b[0m                                 Traceback (most recent call last)",
      "\u001b[0;32m<ipython-input-1-c8cb57278da6>\u001b[0m in \u001b[0;36m<module>\u001b[0;34m\u001b[0m\n\u001b[1;32m      1\u001b[0m \u001b[0;31m# save poem to a text file\u001b[0m\u001b[0;34m\u001b[0m\u001b[0;34m\u001b[0m\u001b[0;34m\u001b[0m\u001b[0m\n\u001b[1;32m      2\u001b[0m \u001b[0mf\u001b[0m \u001b[0;34m=\u001b[0m \u001b[0mopen\u001b[0m\u001b[0;34m(\u001b[0m\u001b[0;34m'generated_poem.txt'\u001b[0m\u001b[0;34m,\u001b[0m \u001b[0;34m'w'\u001b[0m\u001b[0;34m)\u001b[0m\u001b[0;34m\u001b[0m\u001b[0;34m\u001b[0m\u001b[0m\n\u001b[0;32m----> 3\u001b[0;31m \u001b[0mf\u001b[0m\u001b[0;34m.\u001b[0m\u001b[0mwrite\u001b[0m\u001b[0;34m(\u001b[0m\u001b[0mgenerated_poem\u001b[0m\u001b[0;34m)\u001b[0m\u001b[0;34m\u001b[0m\u001b[0;34m\u001b[0m\u001b[0m\n\u001b[0m\u001b[1;32m      4\u001b[0m \u001b[0mf\u001b[0m\u001b[0;34m.\u001b[0m\u001b[0mclose\u001b[0m\u001b[0;34m(\u001b[0m\u001b[0;34m)\u001b[0m\u001b[0;34m\u001b[0m\u001b[0;34m\u001b[0m\u001b[0m\n",
      "\u001b[0;31mNameError\u001b[0m: name 'generated_poem' is not defined"
     ]
    }
   ],
   "source": [
    "# save poem to a text file\n",
    "f = open('generated_poem.txt', 'w')\n",
    "f.write(generated_poem)\n",
    "f.close()"
   ]
  },
  {
   "cell_type": "code",
   "execution_count": 62,
   "metadata": {
    "colab": {},
    "colab_type": "code",
    "executionInfo": {
     "elapsed": 2336089,
     "status": "ok",
     "timestamp": 1597807252889,
     "user": {
      "displayName": "Anish Ghimire",
      "photoUrl": "https://lh3.googleusercontent.com/a-/AOh14Ghdd0oYDP5EKpXhlvF18xwj4Vmwoy38ufxSeDFy=s64",
      "userId": "17027993521230529179"
     },
     "user_tz": -345
    },
    "id": "38OUQzY9va2r"
   },
   "outputs": [],
   "source": []
  }
 ],
 "metadata": {
  "accelerator": "GPU",
  "colab": {
   "collapsed_sections": [],
   "name": "Laxmi-prasad-devkota-poem-generator.ipynb",
   "provenance": []
  },
  "kernelspec": {
   "display_name": "Python 3",
   "language": "python",
   "name": "python3"
  },
  "language_info": {
   "codemirror_mode": {
    "name": "ipython",
    "version": 3
   },
   "file_extension": ".py",
   "mimetype": "text/x-python",
   "name": "python",
   "nbconvert_exporter": "python",
   "pygments_lexer": "ipython3",
   "version": "3.8.2"
  }
 },
 "nbformat": 4,
 "nbformat_minor": 1
}
