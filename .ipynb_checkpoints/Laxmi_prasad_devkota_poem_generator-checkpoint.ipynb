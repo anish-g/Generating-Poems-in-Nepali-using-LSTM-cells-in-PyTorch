{
 "cells": [
  {
   "cell_type": "code",
   "execution_count": 1,
   "metadata": {
    "colab": {
     "base_uri": "https://localhost:8080/",
     "height": 122
    },
    "colab_type": "code",
    "id": "LeMscDjXm3zb",
    "outputId": "e9db2f25-1a1a-4e7b-df9e-233bea1965c1"
   },
   "outputs": [
    {
     "name": "stdout",
     "output_type": "stream",
     "text": [
      "Go to this URL in a browser: https://accounts.google.com/o/oauth2/auth?client_id=947318989803-6bn6qk8qdgf4n4g3pfee6491hc0brc4i.apps.googleusercontent.com&redirect_uri=urn%3aietf%3awg%3aoauth%3a2.0%3aoob&scope=email%20https%3a%2f%2fwww.googleapis.com%2fauth%2fdocs.test%20https%3a%2f%2fwww.googleapis.com%2fauth%2fdrive%20https%3a%2f%2fwww.googleapis.com%2fauth%2fdrive.photos.readonly%20https%3a%2f%2fwww.googleapis.com%2fauth%2fpeopleapi.readonly&response_type=code\n",
      "\n",
      "Enter your authorization code:\n",
      "··········\n",
      "Mounted at /content/drive\n"
     ]
    }
   ],
   "source": [
    "from google.colab import drive\n",
    "drive.mount('/content/drive')"
   ]
  },
  {
   "cell_type": "code",
   "execution_count": 2,
   "metadata": {
    "colab": {},
    "colab_type": "code",
    "id": "e6iK-qbanCFr"
   },
   "outputs": [],
   "source": [
    "file_root = '/content/drive/My Drive/Machine Learning Projects/laxmi-prasad-devkota-poem-generator/'"
   ]
  },
  {
   "cell_type": "code",
   "execution_count": 3,
   "metadata": {
    "colab": {},
    "colab_type": "code",
    "id": "Ha1XfTg2mMya"
   },
   "outputs": [],
   "source": [
    "import os\n",
    "\n",
    "def load_data(path):\n",
    "    \"\"\"Load Dataset from File\"\"\"\n",
    "    input_file = os.path.join(path)\n",
    "    with open(input_file, 'r') as f:\n",
    "        data = f.read()\n",
    "        \n",
    "    return data"
   ]
  },
  {
   "cell_type": "code",
   "execution_count": 4,
   "metadata": {
    "colab": {},
    "colab_type": "code",
    "id": "UR8w_bfqmMyi"
   },
   "outputs": [],
   "source": [
    "# load in data\n",
    "data_dir = file_root + 'lspd.txt'\n",
    "text = load_data(data_dir)"
   ]
  },
  {
   "cell_type": "code",
   "execution_count": 5,
   "metadata": {
    "colab": {
     "base_uri": "https://localhost:8080/",
     "height": 289
    },
    "colab_type": "code",
    "id": "PkvsNyaOmMyn",
    "outputId": "862514d1-9d12-4e4a-a218-c913e8f8c64f",
    "scrolled": true
   },
   "outputs": [
    {
     "name": "stdout",
     "output_type": "stream",
     "text": [
      "Dataset Stats\n",
      "Roughly the number of unique words: 9446\n",
      "Number of lines: 4092\n",
      "Average number of words in wach line: 5.297898338220919\n",
      "\n",
      "The lines 0 to 10:\n",
      "नछाडी जानोस् हे मेरा प्राण ! अकेली मलाई,\n",
      "मनको वनमा ननिभ्ने गरी विरह जलाई !\n",
      "ननिभ्ने गरी विरह जलाई,\n",
      "लोचनका तारा ! हे मेर प्यारा ! यो जोति  बिलाए !\n",
      "के भनूँ? भन्ने म केही थिइन  विष नै पिलाए !\n",
      "प्यारा ! विष नै पिलाए !\n",
      "मनको कुरा गलामा अड्छ, अड्कन्छ गलामा,\n",
      "यो मेरो मुटु पचासबाजी धड्कन्छ पलामा ।\n",
      "यो छाती मेरो चिरेर खोली नजर गराए,\n",
      "त्यो मन केही फर्कंदो होला, तस्विर खुलाए\n"
     ]
    }
   ],
   "source": [
    "view_line_range = (0, 10)\n",
    "\n",
    "import numpy as np\n",
    "\n",
    "print('Dataset Stats')\n",
    "print('Roughly the number of unique words: {}'.format(len({word: None for word in text.split()})))\n",
    "\n",
    "lines = text.split('\\n')\n",
    "print('Number of lines: {}'.format(len(lines)))\n",
    "word_count_line = [len(line.split()) for line in lines]\n",
    "print('Average number of words in wach line: {}'.format(np.average(word_count_line)))\n",
    "\n",
    "print()\n",
    "print('The lines {} to {}:'.format(*view_line_range))\n",
    "print('\\n'.join(text.split('\\n')[view_line_range[0]:view_line_range[1]]))"
   ]
  },
  {
   "cell_type": "code",
   "execution_count": 6,
   "metadata": {
    "colab": {},
    "colab_type": "code",
    "id": "5iieod-amMys"
   },
   "outputs": [],
   "source": [
    "from collections import Counter\n",
    "\n",
    "def create_lookup_tables(text):\n",
    "    \"\"\"\n",
    "    Create lookup tables for vocabulary\n",
    "    :param text: The poem text split into words\n",
    "    :return: A tuple of dicts (vocab_to_int, int_to_vocab)\n",
    "    \"\"\"\n",
    "    \n",
    "    word_counts = Counter(text)\n",
    "    sorted_vocab = sorted(word_counts, key=word_counts.get, reverse=True)\n",
    "    int_to_vocab = {i: word for i, word in enumerate(sorted_vocab)}\n",
    "    vocab_to_int = {word: i for i, word in int_to_vocab.items()}\n",
    "    return (vocab_to_int, int_to_vocab)"
   ]
  },
  {
   "cell_type": "code",
   "execution_count": 7,
   "metadata": {
    "colab": {},
    "colab_type": "code",
    "id": "nPfhUvQomMyx"
   },
   "outputs": [],
   "source": [
    "def token_lookup():\n",
    "    \"\"\"\n",
    "    Generate a dict to turn punctuation into a token.\n",
    "    :return: Tokenized dictionary where the key is the punctuation and the value is the token\n",
    "    \"\"\"\n",
    "    \n",
    "    tokenizer = {}\n",
    "    tokenizer['.'] = '||PERIOD||'\n",
    "    tokenizer[','] = '||COMMA||'\n",
    "    tokenizer['\"'] = '||QUOTATION_MARK||'\n",
    "    tokenizer[';'] = '||SEMICOLON||'\n",
    "    tokenizer['!'] = '||EXCLAMATION_MARK||'\n",
    "    tokenizer['?'] = '||QUESTION_MARK||'\n",
    "    tokenizer['('] = '||LEFT_PARANTHESES||'\n",
    "    tokenizer[')'] = '||RIGHT_PARANTHESES||'\n",
    "    tokenizer['-'] = '||DASH||'\n",
    "    tokenizer['\\n'] = '||RETURN||'\n",
    "    \n",
    "    return tokenizer"
   ]
  },
  {
   "cell_type": "code",
   "execution_count": 8,
   "metadata": {
    "colab": {},
    "colab_type": "code",
    "id": "XfhYnrjJmMy2"
   },
   "outputs": [],
   "source": [
    "import pickle\n",
    "\n",
    "SPECIAL_WORDS = {'PADDING': '<PAD>'}\n",
    "\n",
    "def preprocess_and_save_data(dataset_path, token_lookup, create_lookup_table):\n",
    "    \"\"\"\n",
    "    Preprocess Text Data\n",
    "    \"\"\"\n",
    "    \n",
    "    text = load_data(dataset_path)\n",
    "    \n",
    "    text = text[81:]\n",
    "    \n",
    "    token_dict = token_lookup()\n",
    "    for key, token in token_dict.items():\n",
    "        text = text.replace(key, ' {}'.format(token))\n",
    "        \n",
    "    text = text.lower()\n",
    "    text = text.split()\n",
    "    \n",
    "    vocab_to_int, int_to_vocab = create_lookup_tables(text + list(SPECIAL_WORDS.values()))\n",
    "    int_text = [vocab_to_int[word] for word in text]\n",
    "    pickle.dump((int_text, vocab_to_int, int_to_vocab, token_dict), open(file_root + 'preprocess.p', 'wb'))"
   ]
  },
  {
   "cell_type": "code",
   "execution_count": 9,
   "metadata": {
    "colab": {},
    "colab_type": "code",
    "id": "-8JMmavSmMy6"
   },
   "outputs": [],
   "source": [
    "preprocess_and_save_data(data_dir, token_lookup, create_lookup_tables)"
   ]
  },
  {
   "cell_type": "code",
   "execution_count": 10,
   "metadata": {
    "colab": {},
    "colab_type": "code",
    "id": "nbUYR_1ImMzA"
   },
   "outputs": [],
   "source": [
    "def load_preprocess():\n",
    "    \"\"\"\n",
    "    Load the Preprocessed Training data and return them in batches of <batch_sizes> or less\n",
    "    \"\"\"\n",
    "    \n",
    "    return pickle.load(open(file_root + 'preprocess.p', mode='rb'))"
   ]
  },
  {
   "cell_type": "code",
   "execution_count": 11,
   "metadata": {
    "colab": {},
    "colab_type": "code",
    "id": "m_jPeviMmMzH"
   },
   "outputs": [],
   "source": [
    "def save_model(filename, decoder):\n",
    "    save_filename = os.path.splitext(os.path.basename(filename))[0] + '.pt'\n",
    "    torch.save(decoder, save_filename)"
   ]
  },
  {
   "cell_type": "code",
   "execution_count": 12,
   "metadata": {
    "colab": {},
    "colab_type": "code",
    "id": "5vldnXJumMzL"
   },
   "outputs": [],
   "source": [
    "def load_model(filename):\n",
    "    save_filename = os.path.splitext(os.path.basename(filename))[0] + '.pt'\n",
    "    return torch.load(save_filename)"
   ]
  },
  {
   "cell_type": "code",
   "execution_count": 13,
   "metadata": {
    "colab": {},
    "colab_type": "code",
    "id": "otBFcPIemMzP"
   },
   "outputs": [],
   "source": [
    "int_text, vocab_to_int, int_to_vocab, token_dict = load_preprocess()"
   ]
  },
  {
   "cell_type": "code",
   "execution_count": 14,
   "metadata": {
    "colab": {},
    "colab_type": "code",
    "id": "Z8WT7_E-mMzV"
   },
   "outputs": [],
   "source": [
    "import torch\n",
    "\n",
    "# Check for GPU\n",
    "train_on_gpu = torch.cuda.is_available()\n",
    "if not train_on_gpu:\n",
    "    print('No GPU found. Please use a GPU to train your neural network.')"
   ]
  },
  {
   "cell_type": "code",
   "execution_count": 15,
   "metadata": {
    "colab": {},
    "colab_type": "code",
    "id": "WD7B-XdWmMza"
   },
   "outputs": [],
   "source": [
    "from torch.utils.data import TensorDataset, DataLoader\n",
    "\n",
    "def batch_data(words, sequence_length, batch_size):\n",
    "    \"\"\"\n",
    "    Batch the neural network data using DataLoader\n",
    "    :param words: The word ids of the poems\n",
    "    :param sequence_length: The sequence length of each batch\n",
    "    :param batch size: The size of each batch; the number of sequences in a batch\n",
    "    :return: DataLoader with batched data\n",
    "    \"\"\"\n",
    "    \n",
    "    n_batches = len(words)//batch_size\n",
    "    words = words[:n_batches*batch_size]\n",
    "    y_len = len(words) - sequence_length\n",
    "    x, y = [], []\n",
    "    for idx in range(0, y_len):\n",
    "        idx_end = sequence_length + idx\n",
    "        x_batch = words[idx:idx_end]\n",
    "        x.append(x_batch)\n",
    "        y_batch = words[idx_end]\n",
    "        y.append(y_batch)\n",
    "        \n",
    "    data = TensorDataset(torch.from_numpy(np.asarray(x)), torch.from_numpy(np.asarray(y)))\n",
    "    data_loader = DataLoader(data, shuffle=False, batch_size=batch_size)\n",
    "    \n",
    "    return data_loader"
   ]
  },
  {
   "cell_type": "code",
   "execution_count": 16,
   "metadata": {
    "colab": {
     "base_uri": "https://localhost:8080/",
     "height": 255
    },
    "colab_type": "code",
    "id": "xinCvEeZmMzf",
    "outputId": "4dfac51e-e5f7-4f61-cdb6-75355235e68c"
   },
   "outputs": [
    {
     "name": "stdout",
     "output_type": "stream",
     "text": [
      "torch.Size([10, 5])\n",
      "tensor([[ 0,  1,  2,  3,  4],\n",
      "        [ 1,  2,  3,  4,  5],\n",
      "        [ 2,  3,  4,  5,  6],\n",
      "        [ 3,  4,  5,  6,  7],\n",
      "        [ 4,  5,  6,  7,  8],\n",
      "        [ 5,  6,  7,  8,  9],\n",
      "        [ 6,  7,  8,  9, 10],\n",
      "        [ 7,  8,  9, 10, 11],\n",
      "        [ 8,  9, 10, 11, 12],\n",
      "        [ 9, 10, 11, 12, 13]])\n",
      "\n",
      "torch.Size([10])\n",
      "tensor([ 5,  6,  7,  8,  9, 10, 11, 12, 13, 14])\n"
     ]
    }
   ],
   "source": [
    "# test dataloader\n",
    "\n",
    "test_text = range(50)\n",
    "t_loader = batch_data(test_text, sequence_length=5, batch_size = 10)\n",
    "\n",
    "data_iter = iter(t_loader)\n",
    "sample_x, sample_y = data_iter.next()\n",
    "\n",
    "print(sample_x.shape)\n",
    "print(sample_x)\n",
    "print()\n",
    "print(sample_y.shape)\n",
    "print(sample_y)"
   ]
  },
  {
   "cell_type": "code",
   "execution_count": 23,
   "metadata": {
    "colab": {},
    "colab_type": "code",
    "id": "SQJV37xNmMzl"
   },
   "outputs": [],
   "source": [
    "import torch.nn as nn\n",
    "\n",
    "class RNN(nn.Module):\n",
    "    \n",
    "    def __init__(self, vocab_size, output_size, embedding_dim, hidden_dim, n_layers, dropout=0.5):\n",
    "        \"\"\"\n",
    "        Initialize the PyTorch RNN Module\n",
    "        :param vocab_size: The number of input dimensions of the neural network (the size of the vocabulary)\n",
    "        :param output_size: The number of output dimensions of the neural network\n",
    "        :param embedding_dim: The size of embeddings, if you need to choose them\n",
    "        :param hidden_dim: The size of the hidden layer outputs\n",
    "        :param dropout: dropout to add in between LSTM/GRU layers\n",
    "        \"\"\"\n",
    "        \n",
    "        super(RNN, self).__init__()\n",
    "        self.embedding = nn.Embedding(vocab_size, embedding_dim)\n",
    "        \n",
    "        # set class variables\n",
    "        self.output_size = output_size\n",
    "        self.n_layers = n_layers\n",
    "        self.hidden_dim = hidden_dim\n",
    "        \n",
    "        # define model layers\n",
    "        self.lstm = nn.LSTM(embedding_dim, hidden_dim, n_layers, dropout=dropout, batch_first=True)\n",
    "        self.fc = nn.Linear(hidden_dim, output_size)\n",
    "        \n",
    "        \n",
    "    def forward(self, nn_input, hidden):\n",
    "        \"\"\"\n",
    "        Forward propagation of the neural network\n",
    "        :param nn_input: The input to the neural network\n",
    "        :param hidden: The hidden state\n",
    "        :return: Two Tensors, the output of the neural network and the latest hidden state\n",
    "        \"\"\"\n",
    "        \n",
    "        batch_size = nn_input.size(0)\n",
    "        embeds = self.embedding(nn_input)\n",
    "        lstm_out, hidden = self.lstm(embeds, hidden)\n",
    "        \n",
    "        lstm_out = lstm_out.contiguous().view(-1, self.hidden_dim)\n",
    "        \n",
    "        out = self.fc(lstm_out)\n",
    "        out = out.view(batch_size, -1, self.output_size)\n",
    "        out = out[:, -1]\n",
    "        \n",
    "        return out, hidden\n",
    "    \n",
    "    \n",
    "    def init_hidden(self, batch_size):\n",
    "        \"\"\"\n",
    "        Initialize the hidden state of an LSTM/GRU\n",
    "        :param batch_size: The batch_size of the hidden state\n",
    "        :return: hidden state of dims (n_layers, batch_size, hidden_dim)\n",
    "        \"\"\"\n",
    "        \n",
    "        weight = next(self.parameters()).data\n",
    "        \n",
    "        if(train_on_gpu):\n",
    "            hidden = (weight.new(self.n_layers, batch_size, self.hidden_dim).zero_().cuda(),\n",
    "                     weight.new(self.n_layers, batch_size, self.hidden_dim).zero_().cuda())\n",
    "        else:\n",
    "            hidden = (weight.new(self.n_layers, batch_size, self.hidden_dim).zero_(),\n",
    "                     weight.new(self.n_layers, batch_size, self.hidden_dim).zero_())\n",
    "            \n",
    "        return hidden"
   ]
  },
  {
   "cell_type": "code",
   "execution_count": 24,
   "metadata": {
    "colab": {},
    "colab_type": "code",
    "id": "P1ZH4JbhmMzu"
   },
   "outputs": [],
   "source": [
    "def forward_back_prop(rnn, optimizer, criterion, inp, target, hidden):\n",
    "    \"\"\"\n",
    "    Forward and backward propagation on the neural network\n",
    "    :param decoder: The PyTorch Module that holds the neural network\n",
    "    :param decoder_optimizer: The PyTorch optimizer for the neural network\n",
    "    :param criterion: The PyTorch loss function\n",
    "    :param inp: A batch of input to the neural network\n",
    "    :param target: The target output for the batch pf input\n",
    "    :return: The loss and the latest hidden state Tensor\n",
    "    \"\"\"\n",
    "    \n",
    "    # move data to GPU, if available\n",
    "    if (train_on_gpu):\n",
    "        rnn.cuda()\n",
    "    \n",
    "    # perform backpropagation and optimization\n",
    "    h = tuple([each.data for each in hidden])\n",
    "    \n",
    "    rnn.zero_grad()\n",
    "    \n",
    "    if (train_on_gpu):\n",
    "        inp, target = inp.cuda(), target.cuda()\n",
    "        \n",
    "    output, h = rnn(inp, h)\n",
    "    \n",
    "    loss = criterion(output, target)\n",
    "    \n",
    "    loss.backward()\n",
    "    \n",
    "    nn.utils.clip_grad_norm_(rnn.parameters(), 5)\n",
    "    \n",
    "    optimizer.step()\n",
    "    \n",
    "    # return the loss over a batch and the hidden state produced by our model\n",
    "    return loss.item(), h"
   ]
  },
  {
   "cell_type": "code",
   "execution_count": 25,
   "metadata": {
    "colab": {},
    "colab_type": "code",
    "id": "iJGAIAZ1mMz1"
   },
   "outputs": [],
   "source": [
    "# training loop\n",
    "\n",
    "def train_rnn(rnn, batch_size, optimizer, criterion, n_epochs, show_every_n_batches=100):\n",
    "    batch_losses = []\n",
    "    \n",
    "    rnn.train()\n",
    "    \n",
    "    print('Training for %d epochs(s)...' % n_epochs)\n",
    "    for epoch_i in range(1, n_epochs + 1):\n",
    "        \n",
    "        # initialize hidden state\n",
    "        hidden = rnn.init_hidden(batch_size)\n",
    "        \n",
    "        for batch_i, (inputs, labels) in enumerate(train_loader, 1):\n",
    "            \n",
    "            # make sure to iterate over completely full batches only\n",
    "            n_batches = len(train_loader.dataset)//batch_size\n",
    "            if(batch_i > n_batches):\n",
    "                break\n",
    "                \n",
    "            # forward, back prop\n",
    "            loss, hidden = forward_back_prop(rnn, optimizer, criterion, inputs, labels, hidden)\n",
    "            # record loss\n",
    "            batch_losses.append(loss)\n",
    "            \n",
    "            # printing loss stats\n",
    "            if batch_i % show_every_n_batches == 0:\n",
    "                print('Epoch: {:>4}/{:<4} Loss: {}\\n'.format(\n",
    "                epoch_i, n_epochs, np.average(batch_losses)))\n",
    "                batch_losses = []\n",
    "                \n",
    "    # return trained rnn\n",
    "    return rnn"
   ]
  },
  {
   "cell_type": "code",
   "execution_count": 29,
   "metadata": {
    "colab": {},
    "colab_type": "code",
    "id": "Ia9R9IeamMz7"
   },
   "outputs": [],
   "source": [
    "# Data params\n",
    "# Sequence length\n",
    "sequence_length = 10 # number of words in a sequence\n",
    "# Batch Size\n",
    "batch_size = 128\n",
    "\n",
    "# data loader\n",
    "train_loader = batch_data(int_text, sequence_length, batch_size)"
   ]
  },
  {
   "cell_type": "code",
   "execution_count": 58,
   "metadata": {
    "colab": {},
    "colab_type": "code",
    "id": "Vd6Ds8bcmM0C"
   },
   "outputs": [],
   "source": [
    "# Training parameters\n",
    "# NUmber of Epochs\n",
    "num_epochs = 1000\n",
    "# Learning Rate\n",
    "learning_rate = 0.001\n",
    "\n",
    "# Model parameters\n",
    "# Vocab size\n",
    "vocab_size = len(vocab_to_int)\n",
    "# Output size\n",
    "output_size = vocab_size\n",
    "# Embedding Dimension\n",
    "embedding_dim = 200\n",
    "# Hidden Dimension\n",
    "hidden_dim = 250\n",
    "# Number of RNN Layers\n",
    "n_layers = 2\n",
    "\n",
    "# Show stats for every n number of batches\n",
    "show_every_n_batches = 500"
   ]
  },
  {
   "cell_type": "code",
   "execution_count": 59,
   "metadata": {
    "colab": {
     "base_uri": "https://localhost:8080/",
     "height": 51
    },
    "colab_type": "code",
    "id": "56dFsyJXmM0G",
    "outputId": "3b488aa1-8de7-4e3a-8a2d-4fbe4bab7a14"
   },
   "outputs": [
    {
     "name": "stdout",
     "output_type": "stream",
     "text": [
      "Training for 1000 epochs(s)...\n",
      "Model Trained and Saved\n"
     ]
    }
   ],
   "source": [
    "# create model and move to gpu if available\n",
    "rnn = RNN(vocab_size, output_size, embedding_dim, hidden_dim, n_layers, dropout=0.5)\n",
    "if train_on_gpu:\n",
    "    rnn.cuda()\n",
    "    \n",
    "# defining loss and optimization functions for training\n",
    "optimizer = torch.optim.Adam(rnn.parameters(), lr=learning_rate)\n",
    "criterion = nn.CrossEntropyLoss()\n",
    "\n",
    "# training the model\n",
    "trained_rnn = train_rnn(rnn, batch_size, optimizer, criterion, num_epochs, show_every_n_batches)\n",
    "\n",
    "save_model(file_root + 'trained_rnn', trained_rnn)\n",
    "print('Model Trained and Saved')"
   ]
  },
  {
   "cell_type": "code",
   "execution_count": 60,
   "metadata": {
    "colab": {},
    "colab_type": "code",
    "id": "dS67_AQwmM0K"
   },
   "outputs": [],
   "source": [
    "_, vocab_to_int, int_to_vocab, token_dict = load_preprocess()\n",
    "trained_rnn = load_model(file_root + 'trained_rnn')"
   ]
  },
  {
   "cell_type": "code",
   "execution_count": 61,
   "metadata": {
    "colab": {},
    "colab_type": "code",
    "id": "heBQl2OCmM0P"
   },
   "outputs": [],
   "source": [
    "import torch.nn.functional as F\n",
    "\n",
    "def generate(rnn, prime_id, int_to_vocab, token_dict, pad_value, predict_len=100):\n",
    "    \"\"\"\n",
    "    Generate text using the neural network\n",
    "    :param decoder: The PyTorch Module that holds the trained neural network\n",
    "    :param prime_id: The word id to start the first prediction\n",
    "    :param int_to_vocab: Dict of word id keys to word values\n",
    "    :param token_dict: Dict of punctuation tokens to punctuation values\n",
    "    :param pad_value: The length used to pad a sequence\n",
    "    :param predict_len: The length of text to generate\n",
    "    :return: The generated text\n",
    "    \"\"\"\n",
    "    \n",
    "    rnn.eval()\n",
    "    \n",
    "    # create a sequence (batch_size=1) with the prime_id\n",
    "    current_seq = np.full((1, sequence_length), pad_value)\n",
    "    current_seq[-1][-1] = prime_id\n",
    "    predicted = [int_to_vocab[prime_id]]\n",
    "    \n",
    "    for _ in range(predict_len):\n",
    "        if train_on_gpu:\n",
    "            current_seq = torch.LongTensor(current_seq).cuda()\n",
    "        else:\n",
    "            current_seq = torch.LongTensor(current_seq)\n",
    "            \n",
    "        # initialize the hidden state\n",
    "        hidden = rnn.init_hidden(current_seq.size(0))\n",
    "        \n",
    "        # get the output of the rnn\n",
    "        output, _ = rnn(current_seq, hidden)\n",
    "        \n",
    "        # get the next word od the rnn\n",
    "        p = F.softmax(output, dim=1).data\n",
    "        if train_on_gpu:\n",
    "            p = p.cpu() # move to cpu\n",
    "            \n",
    "        # use top_k sampling to get the index of the next word\n",
    "        top_k = 5\n",
    "        p, top_i = p.topk(top_k)\n",
    "        top_i = top_i.numpy().squeeze()\n",
    "        \n",
    "        # select the likely next word index with some element of randomness\n",
    "        p = p.numpy().squeeze()\n",
    "        word_i = np.random.choice(top_i, p=p/p.sum())\n",
    "        \n",
    "        # retrive that word from the dictionary\n",
    "        word = int_to_vocab[word_i]\n",
    "        predicted.append(word)\n",
    "        \n",
    "        # the generated word becomes the next \"current sequence\" and the cycle can continue\n",
    "        if train_on_gpu:\n",
    "          current_seq = current_seq.cpu()\n",
    "        current_seq = np.roll(current_seq, -1, 1)\n",
    "        current_seq[-1][-1] = word_i\n",
    "        \n",
    "    gen_sentences = ' '.join(predicted)\n",
    "    \n",
    "    # Replace punctuation tokens\n",
    "    for key, token in token_dict.items():\n",
    "        ending = ' ' if key in ['\\n', '(', '\"'] else ''\n",
    "        gen_sentences = gen_sentences.replace(' ' + token.lower(), key)\n",
    "    gen_sentences = gen_sentences.replace('\\n', '\\n')\n",
    "    gen_sentences = gen_sentences.replace('(', '(')\n",
    "    \n",
    "    #return all the sentence\n",
    "    return gen_sentences"
   ]
  },
  {
   "cell_type": "code",
   "execution_count": 66,
   "metadata": {
    "colab": {
     "base_uri": "https://localhost:8080/",
     "height": 1000
    },
    "colab_type": "code",
    "id": "kfWISnJNmM0U",
    "outputId": "33281427-5f5f-4b8a-9a20-a055ec03b9d0"
   },
   "outputs": [
    {
     "name": "stdout",
     "output_type": "stream",
     "text": [
      "ए मनले!\n",
      "हाम्रा क्या बादल छ!\n",
      "घरमा मेरी हरे! अमीर–फकीरको, यो छोटो बादल, बादल बिलाए!\n",
      "सारा राम्रो हो दीप!\n",
      "प्रभु गरे म बाटामा नबोली हातमा,\n",
      "तिम्रो जाने मर्दको लाली साथी?’\n",
      "प्यारी!\n",
      "यी बास्ना मनमा यहाँ छ कहाँ मेरो राति!\n",
      "मलाई होओस मात्र मेरो वनमा म पुकारी!\n",
      "म बीसै दिन बसुँला ल्हासा, बाटामा बीसै दिन्,\n",
      "चखेवा फेरी आउँछ उडी बिहान कुनै दिन्,\n",
      "प्यारी! भेटको बडा दिन!\n",
      "कि मरिछाड्यो, कि गरिछाड्यो मर्दको इरादा,\n",
      "नहाल प्यारि! बाटामा मेरो आँसुको यो बाधा ।\n",
      "अनार दाना दाँतका लहर खोलेर हाँसन्,\n",
      "तिमीले हाँसे म हाँक्न सक्छु ईन्द्रको आसन ।\n",
      "प्यारी!\n",
      "डाँडा मेरा विष हो महान्!\n",
      "घरमा ठूलो गिद्धहरुको पापी छोरो?’\n",
      "कालको यो कुरा माटो,\n",
      "रङ्गमहल!\n",
      "हाम्रो किन हो भुलेकी? यो पीर केही किन हो भुलेकी? बीसै कुरा होश दिन्,\n",
      "प्रकृति मीठो वनका घाँटी,\n",
      "प्यारी! दुःखी, बिदामा प्यारि!\n",
      "आकाश फेरि अतिथि भन्ने\n",
      "एक हाँसन्, रोएर मीठो ठूला उनका\n",
      "बिउँझी कि कुनै प्रसन्न,\n",
      "तोपहरुको बीसै लहरा बस्छ – मुग्धा । फूलको थिइन् ली आँशु पहाड, तल त मरिस् बेला नेपालमा लागेको,\n",
      "त्यो आलुबखडा होला\n",
      "पीयूषमुखी, दुःख दिन आँसुको खस्छ केही नेपालमा छ ।\n",
      "प्यारी! बिदामा हाँसन\n",
      "हे मेरा राम! नभन त्यसो, जूनमा मिलेको!\n",
      "फर्कन्छु म त्यो चाँडै भन्ने किन हो भुलेकी?\n",
      "म बीसै दिन बसुँला ल्हासा, बाटामा बीसै दिन्,\n",
      "चखेवा फेरी आउँछ उडी बिहान कुनै दिन्,\n",
      "प्यारी! भेटको बडा दिन!\n",
      "कि मरिछाड्यो, कि गरिछाड्यो मर्दको इरादा,\n",
      "नहाल प्यारि! बाटामा मेरो आँसुको यो बाधा ।\n",
      "अनार दाना दाँतका लहर खोलेर हाँसन्,\n",
      "तिमीले हाँसे म हाँक्न सक्छु ईन्द्रको आसन ।\n",
      "प्यारी! बिदामा हाँसन विष आँसु भुलेकी भुलेकी?\n",
      "प्यारा! आँसुले भर्‍यौ कि!\n",
      "प्यारा!\n",
      "लोभले किन? गाढा लालीद्धारा!\n",
      "देऊ दाल त्यो जहाँ भात नेपाली?\n",
      "क्या सम्पत् बलि,\n",
      "जुग पखाली, गाइको आहार!\n",
      "रातमा सुर्जे, बिदामा हाँसो कसरी मिलाऊँ?\n",
      "हजुरको गाथ, हजुरको माथ प्रीतिले समाऊँ!\n",
      "भन त्यसो! बुझन मुना!\n",
      "हे पशुपति!\n",
      "किन? साथ थैला,\n",
      "ती पापी लिएर भो बुहारी मेरी!\n",
      "तैपनि तिनको\n",
      "तिम्रो चारी पो छ ।\n",
      "प्यारी! भेटको वयसी!\n",
      "जङ्गली होइन यो हो त्यसमा बलिदान!\n",
      "त्यसमा यौटा केही फेरी मेरो हाँसन्,\n",
      "वनका सास मुटु बनाई मुटु\n",
      "के\n"
     ]
    }
   ],
   "source": [
    "gen_length = 400 \n",
    "prime_word = 'ए'\n",
    "\n",
    "pad_word = SPECIAL_WORDS['PADDING']\n",
    "generated_poem = generate(trained_rnn, vocab_to_int[prime_word], int_to_vocab, token_dict, vocab_to_int[pad_word], gen_length)\n",
    "\n",
    "print(generated_poem)"
   ]
  },
  {
   "cell_type": "code",
   "execution_count": 67,
   "metadata": {
    "colab": {},
    "colab_type": "code",
    "id": "vctFwDdZmM0Y"
   },
   "outputs": [],
   "source": [
    "# save script to a text file\n",
    "f = open(file_root + 'generated_poem.txt', 'w')\n",
    "f.write(generated_poem)\n",
    "f.close()"
   ]
  },
  {
   "cell_type": "code",
   "execution_count": null,
   "metadata": {
    "colab": {},
    "colab_type": "code",
    "id": "38OUQzY9va2r"
   },
   "outputs": [],
   "source": []
  }
 ],
 "metadata": {
  "accelerator": "GPU",
  "colab": {
   "collapsed_sections": [],
   "name": "Laxi-prasad-devkota-poem-generator.ipynb",
   "provenance": []
  },
  "kernelspec": {
   "display_name": "Python 3",
   "language": "python",
   "name": "python3"
  },
  "language_info": {
   "codemirror_mode": {
    "name": "ipython",
    "version": 3
   },
   "file_extension": ".py",
   "mimetype": "text/x-python",
   "name": "python",
   "nbconvert_exporter": "python",
   "pygments_lexer": "ipython3",
   "version": "3.8.2"
  }
 },
 "nbformat": 4,
 "nbformat_minor": 1
}
